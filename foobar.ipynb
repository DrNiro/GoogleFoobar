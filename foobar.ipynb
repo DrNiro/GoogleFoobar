{
 "cells": [
  {
   "cell_type": "markdown",
   "metadata": {
    "id": "kheq4zPTUW0e"
   },
   "source": [
    "#Q1 (Level 1)"
   ]
  },
  {
   "cell_type": "markdown",
   "metadata": {
    "id": "qCV_lkOaTYjr"
   },
   "source": [
    "Re-ID\n",
    "\n",
    "There's some unrest in the minion ranks: minions with ID numbers like \"1\", \"42\", and other \"good\" numbers have been lording it over the poor minions who are stuck with more boring IDs. To quell the unrest, Commander Lambda has tasked you with reassigning everyone new random IDs based on a Completely Foolproof Scheme. \n",
    "\n",
    "Commander Lambda has concatenated the prime numbers in a single long string: \"2357111317192329...\". Now every minion must draw a number from a hat. That number is the starting index in that string of primes, and the minion's new ID number will be the next five digits in the string. So if a minion draws \"3\", their ID number will be \"71113\". \n",
    "\n",
    "Help the Commander assign these IDs by writing a function solution(n) which takes in the starting index n of Lambda's string of all primes, and returns the next five digits in the string. Commander Lambda has a lot of minions, so the value of n will always be between 0 and 10000.\n",
    "\n",
    "Test cases:\n",
    "\n",
    "Inputs: (int) n = 0 Output: (string) \"23571\"\n",
    "\n",
    "Inputs: (int) n = 3 Output: (string) \"71113\""
   ]
  },
  {
   "cell_type": "code",
   "execution_count": 1,
   "metadata": {
    "id": "a_sw8nzaTaE-"
   },
   "outputs": [],
   "source": [
    "def solution(n): \n",
    "  prime = [True for _ in range(20500)] \n",
    "  p = 2\n",
    "  primes_str = \"\"\n",
    "\n",
    "  while (len(primes_str) <= (n+5)):\n",
    "    if (prime[p] == True): \n",
    "      primes_str += str(p)\n",
    "      for j in range(p * 2, len(prime), p):\n",
    "        prime[j] = False\n",
    "    p += 1\n",
    "  return primes_str[n : n+5]"
   ]
  },
  {
   "cell_type": "code",
   "execution_count": 2,
   "metadata": {
    "colab": {
     "base_uri": "https://localhost:8080/",
     "height": 34
    },
    "id": "NGipH6uzD94e",
    "outputId": "544f97bd-00fd-4e49-bb89-27333ec789b1"
   },
   "outputs": [
    {
     "data": {
      "text/plain": [
       "'23571'"
      ]
     },
     "execution_count": 2,
     "metadata": {},
     "output_type": "execute_result"
    }
   ],
   "source": [
    "solution(0)"
   ]
  },
  {
   "cell_type": "code",
   "execution_count": 3,
   "metadata": {
    "colab": {
     "base_uri": "https://localhost:8080/",
     "height": 34
    },
    "id": "cEMbc-ysD_6o",
    "outputId": "b717860b-6152-4b58-a171-233288945bc6"
   },
   "outputs": [
    {
     "data": {
      "text/plain": [
       "'71113'"
      ]
     },
     "execution_count": 3,
     "metadata": {},
     "output_type": "execute_result"
    }
   ],
   "source": [
    "solution(3)"
   ]
  },
  {
   "cell_type": "markdown",
   "metadata": {
    "id": "m42_3q9nLdn2"
   },
   "source": [
    "#Q2 (Level 2)"
   ]
  },
  {
   "cell_type": "markdown",
   "metadata": {
    "id": "UV03xc7AC3KS"
   },
   "source": [
    "Elevator Maintenance\n",
    "\n",
    "You've been assigned the onerous task of elevator maintenance - ugh! It wouldn't be so bad, except that all the elevator documentation has been lying in a disorganized pile at the bottom of a filing cabinet for years, and you don't even know what elevator version numbers you'll be working on.\n",
    "\n",
    "Elevator versions are represented by a series of numbers, divided up into major, minor and revision integers. New versions of an elevator increase the major number, e.g. 1, 2, 3, and so on. When new features are added to an elevator without being a complete new version, a second number named \"minor\" can be used to represent those new additions, e.g. 1.0, 1.1, 1.2, etc. Small fixes or maintenance work can be represented by a third number named \"revision\", e.g. 1.1.1, 1.1.2, 1.2.0, and so on. The number zero can be used as a major for pre-release versions of elevators, e.g. 0.1, 0.5, 0.9.2, etc (Commander Lambda is careful to always beta test her new technology, with her loyal henchmen as subjects!).\n",
    "\n",
    "Given a list of elevator versions represented as strings, write a function answer(l) that returns the same list sorted in ascending order by major, minor, and revision number so that you can identify the current elevator version. The versions in list l will always contain major numbers, but minor and revision numbers are optional. If the version contains a revision number, then it will also have a minor number.\n",
    "\n",
    "For example, given the list l as [\"1.1.2\", \"1.0\", \"1.3.3\", \"1.0.12\", \"1.0.2\"], the function answer(l) would return the list [\"1.0\", \"1.0.2\", \"1.0.12\", \"1.1.2\", \"1.3.3\"]. If two or more versions are equivalent but one version contains more numbers than the others, then these versions must be sorted ascending based on how many numbers they have, e.g [\"1\", \"1.0\", \"1.0.0\"]. The number of elements in the list l will be at least 1 and will not exceed 100.\n",
    "\n",
    "Input 1: l = [\"1.1.2\", \"1.0\", \"1.3.3\", \"1.0.12\", \"1.0.2\"]\n",
    "\n",
    "Output 1: (string list) [\"1.0\", \"1.0.2\", \"1.0.12\", \"1.1.2\", \"1.3.3\"]\n",
    "\n",
    "Input 2: l = [\"1.11\", \"2.0.0\", \"1.2\", \"2\", \"0.1\", \"1.2.1\", \"1.1.1\", \"2.0\"]\n",
    "\n",
    "Output 2: (string list) [\"0.1\", \"1.1.1\", \"1.2\", \"1.2.1\", \"1.11\", \"2\", \"2.0\", \"2.0.0\"]"
   ]
  },
  {
   "cell_type": "code",
   "execution_count": null,
   "metadata": {
    "id": "gU0A7ALVLcR1"
   },
   "outputs": [],
   "source": [
    "def compare_vers(ver1, ver2):\n",
    "  ver1_split = ver1.split(\".\")\n",
    "  ver2_split = ver2.split(\".\")\n",
    "\n",
    "  for num1, num2 in zip(ver1_split, ver2_split):\n",
    "    if int(num1) < int(num2):\n",
    "      return True\n",
    "    elif int(num1) > int(num2):\n",
    "      return False\n",
    "    else:\n",
    "      if len(ver1_split) == 1 and len(ver2_split) > 1: \n",
    "        return True\n",
    "      elif len(ver1_split) > 1 and len(ver2_split) == 1:\n",
    "        return False\n",
    "      elif len(ver1_split) == 1 and len(ver2_split) == 1:\n",
    "        return True\n",
    "      else:\n",
    "        return compare_vers(ver1[len(ver1_split[0])+1:], ver2[len(ver2_split[0])+1:])\n",
    "        \n",
    "def merge(left, right):\n",
    "    if len(left) == 0:\n",
    "        return right\n",
    "\n",
    "    if len(right) == 0:\n",
    "        return left\n",
    "\n",
    "    result = []\n",
    "    index_left = index_right = 0\n",
    "\n",
    "    while len(result) < len(left) + len(right):\n",
    "        if compare_vers(left[index_left], right[index_right]):\n",
    "            result.append(left[index_left])\n",
    "            index_left += 1\n",
    "        else:\n",
    "            result.append(right[index_right])\n",
    "            index_right += 1\n",
    "\n",
    "        if index_right == len(right):\n",
    "            result += left[index_left:]\n",
    "            break\n",
    "\n",
    "        if index_left == len(left):\n",
    "            result += right[index_right:]\n",
    "            break\n",
    "\n",
    "    return result\n",
    "  \n",
    "def merge_sort(array):\n",
    "    if len(array) < 2:\n",
    "        return array\n",
    "\n",
    "    midpoint = len(array) // 2\n",
    "\n",
    "    return merge(\n",
    "        left = merge_sort(array[:midpoint]),\n",
    "        right = merge_sort(array[midpoint:]))\n",
    "\n",
    "def solution(l):\n",
    "  return merge_sort(l)\n"
   ]
  },
  {
   "cell_type": "code",
   "execution_count": null,
   "metadata": {
    "colab": {
     "base_uri": "https://localhost:8080/"
    },
    "id": "qL6MjDitYIVb",
    "outputId": "dfd48825-a7d6-4d40-a340-e5ee5e9737cf"
   },
   "outputs": [
    {
     "data": {
      "text/plain": [
       "['1.0', '1.0.2', '1.0.12', '1.1.2', '1.3.3']"
      ]
     },
     "execution_count": 5,
     "metadata": {},
     "output_type": "execute_result"
    }
   ],
   "source": [
    "l1 = [\"1.1.2\", \"1.0\", \"1.3.3\", \"1.0.12\", \"1.0.2\"]\n",
    "solution(l1)"
   ]
  },
  {
   "cell_type": "code",
   "execution_count": null,
   "metadata": {
    "colab": {
     "base_uri": "https://localhost:8080/"
    },
    "id": "UZtReDgxDcGD",
    "outputId": "105f017b-9d8d-4284-e242-4739c1dc439f"
   },
   "outputs": [
    {
     "data": {
      "text/plain": [
       "['0.1', '1.1.1', '1.2', '1.2.1', '1.11', '2', '2.0', '2.0.0']"
      ]
     },
     "execution_count": 6,
     "metadata": {},
     "output_type": "execute_result"
    }
   ],
   "source": [
    "l2 = [\"1.11\", \"2.0.0\", \"1.2\", \"2\", \"0.1\", \"1.2.1\", \"1.1.1\", \"2.0\"]\n",
    "solution(l2)"
   ]
  },
  {
   "cell_type": "markdown",
   "metadata": {
    "id": "aDXWxapiQfEN"
   },
   "source": [
    "#Q3 "
   ]
  },
  {
   "cell_type": "markdown",
   "metadata": {
    "id": "zYlOQG_pQghv"
   },
   "source": [
    "Don't Get Volunteered!\n",
    "\n",
    "As a henchman on Commander Lambda's space station, you're expected to be resourceful, smart, and a quick thinker. It's not easy building a doomsday device and capturing bunnies at the same time, after all! In order to make sure that everyone working for her is sufficiently quick-witted, Commander Lambda has installed new flooring outside the henchman dormitories. It looks like a chessboard, and every morning and evening you have to solve a new movement puzzle in order to cross the floor. That would be fine if you got to be the rook or the queen, but instead, you have to be the knight. Worse, if you take too much time solving the puzzle, you get \"volunteered\" as a test subject for the LAMBCHOP doomsday device!\n",
    "To help yourself get to and from your bunk every day, write a function called answer(src, dest) which takes in two parameters: the source square, on which you start, and the destination square, which is where you need to land to solve the puzzle.  The function should return an integer representing the smallest number of moves it will take for you to travel from the source square to the destination square using a chess knight's moves (that is, two squares in any direction immediately followed by one square perpendicular to that direction, or vice versa, in an \"L\" shape).  Both the source and destination squares will be an integer between 0 and 63, inclusive, and are numbered like the example chessboard below:\n",
    "\n",
    "\n",
    "| 0| 1| 2| 3| 4| 5| 6| 7|\n",
    "\n",
    "| 8| 9|10|11|12|13|14|15|\n",
    "\n",
    "|16|17|18|19|20|21|22|23|\n",
    "\n",
    "|24|25|26|27|28|29|30|31|\n",
    "\n",
    "|32|33|34|35|36|37|38|39|\n",
    "\n",
    "|40|41|42|43|44|45|46|47|\n",
    "\n",
    "|48|49|50|51|52|53|54|55|\n",
    "\n",
    "|56|57|58|59|60|61|62|63|\n",
    "\n",
    "\n",
    "Test cases\n",
    "\n",
    "Inputs:\n",
    "  (int) src = 19\n",
    "  (int) dest = 36\n",
    ",Output:\n",
    "  (int) 1\n",
    "\n",
    "Inputs:\n",
    "  (int) src = 0\n",
    "  (int) dest = 1\n",
    ",Output:\n",
    "  (int) 3\n"
   ]
  },
  {
   "cell_type": "code",
   "execution_count": null,
   "metadata": {
    "id": "B7nL7pE_Uma_"
   },
   "outputs": [],
   "source": [
    "def legit_moves(current_tile, board_sqr_dim=8):   \n",
    "  # all moves can be described as a pair of numbers (x, y). x positive direction: right, y positive direction: down.\n",
    "  all_moves = [(2, 1), (2, -1), (-2, 1), (-2, -1), (1, 2), (-1, 2), (1, -2), (-1, -2)]\n",
    "\n",
    "  row = current_tile // board_sqr_dim\n",
    "  col = current_tile % board_sqr_dim\n",
    "\n",
    "  legit_tiles = [col + x + ((row + y) * board_sqr_dim) for x, y in all_moves if 0 <= col + x and col + x < board_sqr_dim and 0 <= row + y and row + y < board_sqr_dim]\n",
    "\n",
    "  return legit_tiles\n",
    "\n",
    "def build_graph(board_sqr_dim=8):\n",
    "  graph = {}\n",
    "  for i in range((board_sqr_dim**2)): \n",
    "    graph[str(i)] = [move for move in legit_moves(i, board_sqr_dim)]\n",
    "\n",
    "  return graph\n",
    "\n",
    "# find a shortest path and return vertex (including src and dest).\n",
    "def bfs(graph, src, dest):\n",
    "  visited = [] \n",
    "  queue = [[src]] \n",
    "    \n",
    "  if src == dest: \n",
    "    return [src]\n",
    "    \n",
    "  while queue: \n",
    "    path = queue.pop(0) \n",
    "    vertex = path[-1] \n",
    "     \n",
    "    if vertex not in visited: \n",
    "      neighbours = graph[str(vertex)] \n",
    "        \n",
    "      for neighbour in neighbours: \n",
    "        new_path = list(path) \n",
    "        new_path.append(neighbour) \n",
    "        queue.append(new_path) \n",
    "           \n",
    "        if neighbour == dest:  \n",
    "          return new_path\n",
    "\n",
    "        visited.append(vertex) \n",
    "\n",
    "  print(\"no path between src and dest\")\n",
    "  return -1\n",
    "\n",
    "def solution(src, dest):\n",
    "  graph = build_graph()\n",
    "  path = bfs(graph, src, dest)\n",
    "  return len(path)-1"
   ]
  },
  {
   "cell_type": "code",
   "execution_count": null,
   "metadata": {
    "colab": {
     "base_uri": "https://localhost:8080/"
    },
    "id": "vupegBAaEzt3",
    "outputId": "9adf315e-8ba7-4ad3-d8ba-42eed8b678bf"
   },
   "outputs": [
    {
     "data": {
      "text/plain": [
       "1"
      ]
     },
     "execution_count": 8,
     "metadata": {},
     "output_type": "execute_result"
    }
   ],
   "source": [
    "solution(19, 36)"
   ]
  },
  {
   "cell_type": "code",
   "execution_count": null,
   "metadata": {
    "colab": {
     "base_uri": "https://localhost:8080/"
    },
    "id": "JPs-IYs-E06o",
    "outputId": "f1e05cc3-fa8e-4b87-d5f9-83f346267d71"
   },
   "outputs": [
    {
     "data": {
      "text/plain": [
       "3"
      ]
     },
     "execution_count": 9,
     "metadata": {},
     "output_type": "execute_result"
    }
   ],
   "source": [
    "solution(0, 1)"
   ]
  },
  {
   "cell_type": "markdown",
   "metadata": {
    "id": "AJNociy72wTV"
   },
   "source": [
    "#Q4 - (Level 3)"
   ]
  },
  {
   "cell_type": "markdown",
   "metadata": {
    "id": "aFZmAeGbAjVg"
   },
   "source": [
    "Fuel Injection Perfection\n",
    "\n",
    "Commander Lambda has asked for your help to refine the automatic quantum antimatter fuel injection system for the LAMBCHOP doomsday device. It's a great chance for you to get a closer look at the LAMBCHOP -- and maybe sneak in a bit of sabotage while you're at it -- so you took the job gladly. \n",
    "\n",
    "Quantum antimatter fuel comes in small pellets, which is convenient since the many moving parts of the LAMBCHOP each need to be fed fuel one pellet at a time. However, minions dump pellets in bulk into the fuel intake. You need to figure out the most efficient way to sort and shift the pellets down to a single pellet at a time. \n",
    "\n",
    "The fuel control mechanisms have three operations: \n",
    "\n",
    "1) Add one fuel pellet\n",
    "2) Remove one fuel pellet\n",
    "3) Divide the entire group of fuel pellets by 2 (due to the destructive energy released when a quantum antimatter pellet is cut in half, the safety controls will only allow this to happen if there is an even number of pellets)\n",
    "\n",
    "Write a function called solution(n) which takes a positive integer as a string and returns the minimum number of operations needed to transform the number of pellets to 1. The fuel intake control panel can only display a number up to 309 digits long, so there won't ever be more pellets than you can express in that many digits.\n",
    "\n",
    "For example:\n",
    "solution(4) returns 2: 4 -> 2 -> 1\n",
    "solution(15) returns 5: 15 -> 16 -> 8 -> 4 -> 2 -> 1\n",
    "Quantum antimatter fuel comes in small pellets, which is convenient since the many moving parts of the LAMBCHOP each need to be fed fuel one pellet at a time. However, minions dump pellets in bulk into the fuel intake. You need to figure out the most efficient way to sort and shift the pellets down to a single pellet at a time. \n",
    "\n",
    "The fuel control mechanisms have three operations: \n",
    "\n",
    "1) Add one fuel pellet\n",
    "2) Remove one fuel pellet\n",
    "3) Divide the entire group of fuel pellets by 2 (due to the destructive energy released when a quantum antimatter pellet is cut in half, the safety controls will only allow this to happen if there is an even number of pellets)\n",
    "\n",
    "Write a function called solution(n) which takes a positive integer as a string and returns the minimum number of operations needed to transform the number of pellets to 1. The fuel intake control panel can only display a number up to 309 digits long, so there won't ever be more pellets than you can express in that many digits.\n",
    "\n",
    "Test cases:\n",
    "\n",
    "solution(4) returns 2\n",
    "\n",
    "solution(15) returns 5"
   ]
  },
  {
   "cell_type": "code",
   "execution_count": null,
   "metadata": {
    "id": "r1paf8Dwb_UG"
   },
   "outputs": [],
   "source": [
    "def solution(n):\n",
    "  queue = [int(n)] \n",
    "  tree = {}\n",
    "  counter = 0\n",
    "  done = False\n",
    "\n",
    "  while not done: \n",
    "    nums, queue = queue[:], []\n",
    "\n",
    "    for num in nums:\n",
    "      if num == 1:\n",
    "        done = True\n",
    "        break\n",
    "\n",
    "      if str(num) not in tree.keys():\n",
    "        if num % 2 == 0:\n",
    "          tree[str(num)] = [num // 2]\n",
    "          queue.append(num // 2)\n",
    "  \n",
    "        else:\n",
    "          tree[str(num)] = [num + 1, num - 1]\n",
    "          queue.append(num + 1)\n",
    "          queue.append(num - 1)\n",
    "\n",
    "    if not done:\n",
    "      counter += 1\n",
    "      \n",
    "  return counter"
   ]
  },
  {
   "cell_type": "code",
   "execution_count": null,
   "metadata": {
    "colab": {
     "base_uri": "https://localhost:8080/"
    },
    "id": "vP2GCswpWWXW",
    "outputId": "20952e6b-a5aa-4365-acd5-74c675a82c67"
   },
   "outputs": [
    {
     "data": {
      "text/plain": [
       "2"
      ]
     },
     "execution_count": 11,
     "metadata": {},
     "output_type": "execute_result"
    }
   ],
   "source": [
    "solution(\"4\")"
   ]
  },
  {
   "cell_type": "code",
   "execution_count": null,
   "metadata": {
    "colab": {
     "base_uri": "https://localhost:8080/"
    },
    "id": "tEx6v-CScq11",
    "outputId": "07d53852-d015-4cac-edae-b6b3991ccad5"
   },
   "outputs": [
    {
     "data": {
      "text/plain": [
       "5"
      ]
     },
     "execution_count": 12,
     "metadata": {},
     "output_type": "execute_result"
    }
   ],
   "source": [
    "solution(\"15\")"
   ]
  },
  {
   "cell_type": "markdown",
   "metadata": {
    "id": "Q4hHWQIlHDWl"
   },
   "source": [
    "#Q5"
   ]
  },
  {
   "cell_type": "markdown",
   "metadata": {
    "id": "X-QFhHYNLJMW"
   },
   "source": [
    "Prepare the Bunnies' Escape\n",
    "\n",
    "You're awfully close to destroying the LAMBCHOP doomsday device and freeing Commander Lambda's bunny prisoners, but once they're free of the prison blocks, the bunnies are going to need to escape Lambda's space station via the escape pods as quickly as possible. Unfortunately, the halls of the space station are a maze of corridors and dead ends that will be a deathtrap for the escaping bunnies. Fortunately, Commander Lambda has put you in charge of a remodeling project that will give you the opportunity to make things a little easier for the bunnies. Unfortunately (again), you can't just remove all obstacles between the bunnies and the escape pods - at most you can remove one wall per escape pod path, both to maintain structural integrity of the station and to avoid arousing Commander Lambda's suspicions. \n",
    "You have maps of parts of the space station, each starting at a prison exit and ending at the door to an escape pod. The map is represented as a matrix of 0s and 1s, where 0s are passable space and 1s are impassable walls. The door out of the prison is at the top left (0,0) and the door into an escape pod is at the bottom right (w-1,h-1). \n",
    "Write a function answer(map) that generates the length of the shortest path from the prison door to the escape pod, where you are allowed to remove one wall as part of your remodeling plans. The path length is the total number of nodes you pass through, counting both the entrance and exit nodes. The starting and ending positions are always passable (0). The map will always be solvable, though you may or may not need to remove a wall. The height and width of the map can be from 2 to 20. Moves can only be made in cardinal directions; no diagonal moves are allowed."
   ]
  },
  {
   "cell_type": "markdown",
   "metadata": {
    "id": "aWQoDvgBLdcr"
   },
   "source": [
    "Test cases\n",
    "\n",
    "\n",
    "intput1:\n",
    "\n",
    "[[0, 1, 1, 0],\n",
    "\n",
    " [0, 0, 0, 1],\n",
    "\n",
    " [1, 1, 0, 0], \n",
    "\n",
    " [1, 1, 1, 0]]\n",
    " \n",
    "output1: 7\n",
    "\n",
    "input2:\n",
    "\n",
    "[[0, 0, 0, 0, 0, 0],\n",
    " \n",
    " [1, 1, 1, 1, 1, 0],\n",
    " \n",
    " [0, 0, 0, 0, 0, 0],\n",
    " \n",
    " [0, 1, 1, 1, 1, 1],\n",
    " \n",
    " [0, 1, 1, 1, 1, 1],\n",
    " \n",
    " [0, 0, 0, 0, 0, 0]]\n",
    " \n",
    " output2: 11"
   ]
  },
  {
   "cell_type": "code",
   "execution_count": null,
   "metadata": {
    "id": "lqnR9ESVs4i0"
   },
   "outputs": [],
   "source": [
    "'''\n",
    "  Reduce to a graph shortest path problem.\n",
    " \n",
    "  Build graph G1 with green inner vertex and edges only, connected 'one-way' by red edges to graph G2 with inner red and green vertex and only green edges.\n",
    "  The path needs to start at G1, and end at G2 (or G1 if no need to break walls).\n",
    "\n",
    "  G = {\n",
    "    (\"color r or b\", i, j, \"sub-graph g1 or g2\"): [list of neighbours], \n",
    "    (\"b\", 0, 0, \"g1\"): [[\"b\", 0, 1, \"g1\"], [\"r\", 1, 0, \"g2\"]],\n",
    "    (\"b\", 0, 1, \"g1\"): [list of neighbours],\n",
    "    ...\n",
    "  }\n",
    "  G:  A graph containing 2 sub-graphs, g1 and g2,\n",
    "      with vertex in 2 colors - blue for hall and red for a wall.\n",
    "  g1: A sub-graph with blue vertex connected to blue vertex in g1,\n",
    "      or connected to a red vertex in g2.\n",
    "  g2: A sub-graph with red vertex connected to blue vertex in g2,\n",
    "      and blue vertex that connected to blue vertex in g2.\n",
    "  Shortest path from (0, 0) to (w-1, h-1) in either g1 or g2 will\n",
    "      guarantee at most 1 red vertex (1 wall) in the path.\n",
    "'''\n",
    "\n",
    "def find_neighbours(x, y, map):\n",
    "  legit_moves = [(0, 1), (0, -1), (1, 0), (-1, 0)] # [right, left, down, up]\n",
    "\n",
    "  legit_tiles = [[\"b\", x+dx, y+dy] if map[x+dx][y+dy] == 0 else [\"r\", x+dx, y+dy] for dx, dy in legit_moves if 0 <= x + dx and x + dx < len(map) and 0 <= y + dy and y + dy < len(map[0])]\n",
    "\n",
    "  return legit_tiles\n",
    "\n",
    "# O(i * j * n * n2) = [n <= 4, n2 <= 4] = O(i * j)\n",
    "def build_splited_graph(map):\n",
    "  G = {}\n",
    "  rows = len(map)\n",
    "  cols = len(map[0])\n",
    "\n",
    "  for i in range(rows):\n",
    "    for j in range(cols):\n",
    "      neighbours = find_neighbours(i, j, map) # [\"color\", i, j]\n",
    "\n",
    "      if map[i][j] == 0:\n",
    "        G[(\"b\", i, j, \"g1\")] = [vertex + [\"g1\"] for vertex in neighbours if vertex[0] == \"b\"] # all blues from g1 that connected to blues in g1\n",
    "        G[(\"b\", i, j, \"g2\")] = [vertex + [\"g2\"] for vertex in neighbours if vertex[0] == \"b\"] # all blues from g2 that conncted to blues in g2\n",
    "        for n in neighbours:\n",
    "          if n[0] == \"r\":\n",
    "            for n2 in find_neighbours(n[1], n[2], map): # for red neighbours find their neighbours. \n",
    "              if n2[0] == \"b\":\n",
    "                keys = G.keys()\n",
    "\n",
    "                if (\"b\", i, j, \"g1\") not in keys:\n",
    "                  G[(\"b\", i, j, \"g1\")] = []   \n",
    "                if n + [\"g2\"] not in G[(\"b\", i, j, \"g1\")]:\n",
    "                  G[(\"b\", i, j, \"g1\")].append(n + [\"g2\"]) # connect original vertex in g1 to the red with following blue vertex in g2\n",
    "                \n",
    "                if (\"r\", n[1], n[2], \"g2\") not in keys:\n",
    "                  G[(\"r\", n[1], n[2], \"g2\")] = []\n",
    "                if n2 + [\"g2\"] not in G[(\"r\", n[1], n[2], \"g2\")]:\n",
    "                  G[(\"r\", n[1], n[2], \"g2\")].append(n2 + [\"g2\"]) # connect red in g2 to the blue vertex in g2. \n",
    "\n",
    "  return G\n",
    "\n",
    "\n",
    "def bfs(graph, src, dest):\n",
    "  visited = [] \n",
    "  queue = [[src]] \n",
    "  if src in dest: \n",
    "    return [src]\n",
    "    \n",
    "  while queue: \n",
    "    path = queue.pop(0) \n",
    "    vertex = path[-1] \n",
    "     \n",
    "    if vertex not in visited: \n",
    "      neighbours = graph[tuple(vertex)] \n",
    "        \n",
    "      for neighbour in neighbours: \n",
    "        new_path = list(path) \n",
    "        new_path.append(neighbour) \n",
    "        queue.append(new_path)\n",
    "        if tuple(neighbour) in dest: \n",
    "          return new_path\n",
    "\n",
    "        visited.append(vertex) \n",
    "\n",
    "  print(\"no path beween src and dest\")\n",
    "  return []\n",
    "\n",
    "\n",
    "def solution(map):\n",
    "  graph = build_splited_graph(map)\n",
    "  src = (\"b\", 0, 0, \"g1\")\n",
    "  dest = [(\"b\", len(map)-1, len(map[0])-1, \"g1\"), (\"b\", len(map)-1, len(map[0])-1, \"g2\")]\n",
    "  \n",
    "  shortest_path = bfs(graph, src, dest)\n",
    "  return len(shortest_path)"
   ]
  },
  {
   "cell_type": "code",
   "execution_count": null,
   "metadata": {
    "colab": {
     "base_uri": "https://localhost:8080/"
    },
    "id": "Mjeb9rYV0etu",
    "outputId": "969dbcad-5ea3-4df4-cb51-30a7833ce832"
   },
   "outputs": [
    {
     "data": {
      "text/plain": [
       "7"
      ]
     },
     "execution_count": 14,
     "metadata": {},
     "output_type": "execute_result"
    }
   ],
   "source": [
    "map1 = [[0, 1, 1, 0], [0, 0, 0, 1], [1, 1, 0, 0], [1, 1, 1, 0]]\n",
    "solution(map1)"
   ]
  },
  {
   "cell_type": "code",
   "execution_count": null,
   "metadata": {
    "colab": {
     "base_uri": "https://localhost:8080/"
    },
    "id": "176nSNJE4Uhl",
    "outputId": "97e78a12-8635-4760-f30e-864d19a3a59f"
   },
   "outputs": [
    {
     "data": {
      "text/plain": [
       "11"
      ]
     },
     "execution_count": 15,
     "metadata": {},
     "output_type": "execute_result"
    }
   ],
   "source": [
    "map2 = [[0, 0, 0, 0, 0, 0], [1, 1, 1, 1, 1, 0], [0, 0, 0, 0, 0, 0], [0, 1, 1, 1, 1, 1], [0, 1, 1, 1, 1, 1], [0, 0, 0, 0, 0, 0]]\n",
    "solution(map2)"
   ]
  },
  {
   "cell_type": "markdown",
   "metadata": {
    "id": "miSrcWMhrCPt"
   },
   "source": [
    "#Q6"
   ]
  },
  {
   "cell_type": "markdown",
   "metadata": {
    "id": "ePiUtsow-XSc"
   },
   "source": [
    "Find the Access Codes\n",
    "\n",
    "In order to destroy Commander Lambda's LAMBCHOP doomsday device, you'll need access to it. But the only door leading to\n",
    "the LAMBCHOP chamber is secured with a unique lock system whose number of passcodes changes daily. Commander Lambda\n",
    "gets a report every day that includes the locks' access codes, but only she knows how to figure out which of several\n",
    "lists contains the access codes. You need to find a way to determine which list contains the access codes once you're\n",
    "ready to go in.\n",
    "\n",
    "Fortunately, now that you're Commander Lambda's personal assistant, Lambda has confided to you that all the access codes are \"lucky triples\" in order to make it easier to find them in the lists. A \"lucky triple\" is a tuple (x, y, z) where x divides y and y divides z, such as (1, 2, 4). With that information, you can figure out which list contains the number of access codes that matches the number of locks on the door when you're ready to go in (for example, if there's 5 passcodes, you'd need to find a list with 5 \"lucky triple\" access codes).\n",
    "\n",
    "Write a function solution(l) that takes a list of positive integers l and counts the number of \"lucky triples\" of (li, lj, lk) where the list indices meet the requirement i < j < k.  The length of l is between 2 and 2000 inclusive.  The elements of l are between 1 and 999999 inclusive.  The solution fits within a signed 32-bit integer. Some of the lists are purposely generated without any access codes to throw off spies, so if no triples are found, return 0. \n",
    "\n",
    "\n",
    "Test cases\n",
    "\n",
    "Inputs:\n",
    "    (int list) l = [1, 1, 1]\n",
    "Output:\n",
    "    (int) 1\n",
    "\n",
    "Inputs:\n",
    "    (int list) l = [1, 2, 3, 4, 5, 6]\n",
    "Output:\n",
    "    (int) 3"
   ]
  },
  {
   "cell_type": "code",
   "execution_count": null,
   "metadata": {
    "id": "gK1KanixA7je"
   },
   "outputs": [],
   "source": [
    "# Funtcion for mapping a list of integers.\n",
    "# The keys are integers representing a number from the list l.\n",
    "# The values are list of lists representing all the numbers\n",
    "#   that divide the key without a remainder in the list l.\n",
    "# Each inner list of the value contains numbers that divide the key depending on\n",
    "#   how many times the number showed in the list l so far.\n",
    "\n",
    "# e.g,    l = [2, 2, 4, 6, 3, 12]\n",
    "#       map = { 2: [[2, 4, 6, 12], [4, 6, 12]],\n",
    "#               3: [[12]],\n",
    "#               4: [[12]],\n",
    "#               6: [[12]],\n",
    "#               12: [[]]\n",
    "#             }\n",
    "def rearrange(l):\n",
    "  map = {}\n",
    "  for num in l:\n",
    "    if num not in map.keys():\n",
    "      map[num] = [[]]\n",
    "    else:\n",
    "      map[num].append([]) \n",
    "  \n",
    "    for key, val in map.items():\n",
    "      if num % key == 0:\n",
    "        for ls in map[key]:\n",
    "          ls.append(num)\n",
    "  \n",
    "  for k, v in map.items():\n",
    "    for ls in v:\n",
    "      ls.pop(0)\n",
    "\n",
    "  return map\n",
    "\n",
    "# With the map, iterate over the list l to get num1.\n",
    "# Iterate over map[num1] to get num2.\n",
    "# Count how many numbers are in the list map[num2][1] if num1 == num2,\n",
    "#   else count how many numbers are in the list map[num2][0]\n",
    "# Every iteration of num2, pop the list counted\n",
    "#   (which is temp_map[num1][1] or temp_map[num2][0] depends if num1 == num2).\n",
    "# Every iteration of num1, pop the list iterated on (which is map[num1][0]).\n",
    "# This way it keeps track of index so i < j < k always,\n",
    "#   and pair a num2 to all it's num3s within O(1)\n",
    "#   which is better than the brute-force approach.\n",
    "def count_triples(l):\n",
    "  map = rearrange(l)\n",
    "  counter = 0\n",
    "\n",
    "  for num1 in l[:-2]:\n",
    "    temp_map = {key: value[:] for key, value in map.items()} # deepcopy fixed map\n",
    "\n",
    "    for num2 in temp_map[num1][0]:\n",
    "      if num1 == num2:\n",
    "        counter += len(temp_map[num1].pop(1))\n",
    "      else:\n",
    "        counter += len(temp_map[num2].pop(0))\n",
    "\n",
    "    map[num1].pop(0)\n",
    "    \n",
    "  return counter\n",
    "\n",
    "def solution(l):\n",
    "  return count_triples(l)"
   ]
  },
  {
   "cell_type": "code",
   "execution_count": null,
   "metadata": {
    "colab": {
     "base_uri": "https://localhost:8080/"
    },
    "id": "I1ynUuqpBSuE",
    "outputId": "36369a13-797c-4edb-c189-a3d324186cdc"
   },
   "outputs": [
    {
     "data": {
      "text/plain": [
       "1"
      ]
     },
     "execution_count": 17,
     "metadata": {},
     "output_type": "execute_result"
    }
   ],
   "source": [
    "l1 = [1, 1, 1]\n",
    "solution(l1)"
   ]
  },
  {
   "cell_type": "code",
   "execution_count": null,
   "metadata": {
    "colab": {
     "base_uri": "https://localhost:8080/"
    },
    "id": "NvFmVffhuFr6",
    "outputId": "bedf62bc-1e8f-4c1c-952d-26e885a316e2"
   },
   "outputs": [
    {
     "data": {
      "text/plain": [
       "3"
      ]
     },
     "execution_count": 18,
     "metadata": {},
     "output_type": "execute_result"
    }
   ],
   "source": [
    "l2 = [1, 2, 3, 4, 5, 6]\n",
    "count_triples(l2)"
   ]
  },
  {
   "cell_type": "markdown",
   "metadata": {
    "id": "zANf7NxlSvDI"
   },
   "source": [
    "#Q7 (Level 4)"
   ]
  },
  {
   "cell_type": "markdown",
   "metadata": {
    "id": "YumheTrbSzt9"
   },
   "source": [
    "Escape Pods\n",
    "\n",
    "You've blown up the LAMBCHOP doomsday device and relieved the bunnies of their work duries -- and now you need to escape from the space station as quickly and as orderly as possible! The bunnies have all gathered in various locations throughout the station, and need to make their way towards the seemingly endless amount of escape pods positioned in other parts of the station. You need to get the numerous bunnies through the various rooms to the escape pods. Unfortunately, the corridors between the rooms can only fit so many bunnies at a time. What's more, many of the corridors were resized to accommodate the LAMBCHOP, so they vary in how many bunnies can move through them at a time. \n",
    "\n",
    "Given the starting room numbers of the groups of bunnies, the room numbers of the escape pods, and how many bunnies can fit through at a time in each direction of every corridor in between, figure out how many bunnies can safely make it to the escape pods at a time at peak.\n",
    "\n",
    "Write a function solution(entrances, exits, path) that takes an array of integers denoting where the groups of gathered bunnies are, an array of integers denoting where the escape pods are located, and an array of an array of integers of the corridors, returning the total number of bunnies that can get through at each time step as an int. The entrances and exits are disjoint and thus will never overlap. The path element path[A][B] = C describes that the corridor going from A to B can fit C bunnies at each time step.  There are at most 50 rooms connected by the corridors and at most 2000000 bunnies that will fit at a time.\n",
    "\n",
    "For example, if you have:\n",
    "entrances = [0, 1]\n",
    "exits = [4, 5]\n",
    "path = [\n",
    "  [0, 0, 4, 6, 0, 0],  # Room 0: Bunnies\n",
    "  [0, 0, 5, 2, 0, 0],  # Room 1: Bunnies\n",
    "  [0, 0, 0, 0, 4, 4],  # Room 2: Intermediate room\n",
    "  [0, 0, 0, 0, 6, 6],  # Room 3: Intermediate room\n",
    "  [0, 0, 0, 0, 0, 0],  # Room 4: Escape pods\n",
    "  [0, 0, 0, 0, 0, 0],  # Room 5: Escape pods\n",
    "]\n",
    "\n",
    "Then in each time step, the following might happen:\n",
    "0 sends 4/4 bunnies to 2 and 6/6 bunnies to 3\n",
    "1 sends 4/5 bunnies to 2 and 2/2 bunnies to 3\n",
    "2 sends 4/4 bunnies to 4 and 4/4 bunnies to 5\n",
    "3 sends 4/6 bunnies to 4 and 4/6 bunnies to 5\n",
    "\n",
    "So, in total, 16 bunnies could make it to the escape pods at 4 and 5 at each time step.  (Note that in this example, room 3 could have sent any variation of 8 bunnies to 4 and 5, such as 2/6 and 6/6, but the final solution remains the same.)\n",
    "\n",
    "Test cases\n",
    "\n",
    "Inputs:\n",
    "    (int list) entrances = [0]\n",
    "    (int list) exits = [3]\n",
    "    (int) path = [[0, 7, 0, 0], [0, 0, 6, 0], [0, 0, 0, 8], [9, 0, 0, 0]]\n",
    "\n",
    "Output:\n",
    "    (int) 6\n",
    "\n",
    "Inputs:\n",
    "    (int list) entrances = [0, 1]\n",
    "    (int list) exits = [4, 5]\n",
    "    (int) path = [[0, 0, 4, 6, 0, 0], [0, 0, 5, 2, 0, 0], [0, 0, 0, 0, 4, 4], [0, 0, 0, 0, 6, 6], [0, 0, 0, 0, 0, 0], [0, 0, 0, 0, 0, 0]]\n",
    "\n",
    "Output:\n",
    "    (int) 16"
   ]
  },
  {
   "cell_type": "code",
   "execution_count": null,
   "metadata": {
    "id": "fLQqq2bNkSNf"
   },
   "outputs": [],
   "source": [
    "'''\n",
    "First, connect s (starting vertex) to all entrances and t (ending vertex) to all exits\n",
    "Perform Dinic's algorithm to find max flow.\n",
    "\n",
    "Dinic's algorithm for max flow was chosen.\n",
    "Flow can go up to 2,000,000 so Ford-Fulkerson will not be efficient.\n",
    "V < E so Dinic's is more efficient than Edmond-Karp.\n",
    "'''\n",
    "class FlowGraph():\n",
    "  def __init__(self, entrances, exits, path):\n",
    "    self.entrances = entrances\n",
    "    self.exits = exits\n",
    "    self.path = path\n",
    "    self.flow = self.connect_s_t(entrances, exits, path)\n",
    "    self.residual = [[0 for _ in range(len(self.flow[0]))] for __ in range(len(self.flow))]\n",
    "    self.s = 0\n",
    "    self.t = len(self.flow) - 1\n",
    "    self.level = self.bfs_level_graph()\n",
    "\n",
    "\n",
    "  def connect_s_t(self, entrances, exits, path):\n",
    "    flow_graph = [room[:] for room in path]\n",
    "    path_transpose = [[flow_graph[j][i] for j in range(len(flow_graph))] for i in range(len(flow_graph[0]))]\n",
    "    t = [0 if i not in exits else sum(room) for i, room in enumerate(path_transpose)]\n",
    "    for i, row in enumerate(flow_graph):\n",
    "      row.append(t[i])\n",
    "      row.insert(0, 0)\n",
    "\n",
    "    s = [0 if room not in entrances else 9999999 for room in range(len(flow_graph))]\n",
    "    s.append(0)\n",
    "    s.insert(0, 0)\n",
    "\n",
    "    flow_graph.insert(0, s)\n",
    "    flow_graph.append([0] * len(flow_graph[0]))\n",
    "\n",
    "    return flow_graph\n",
    "\n",
    "\n",
    "  def bfs_level_graph(self):\n",
    "    src = 0\n",
    "    dest = len(self.flow) - 1\n",
    "    visited = [] \n",
    "    queue = [src] \n",
    "    level_graph = {src: 0}\n",
    "\n",
    "    if src == dest: \n",
    "      return level_graph\n",
    "      \n",
    "    while queue:\n",
    "      vertex = queue.pop(0)\n",
    "\n",
    "      for i, residual_flow in enumerate(self.residual[vertex]):\n",
    "        if residual_flow < self.flow[vertex][i] and i not in level_graph.keys():\n",
    "          level_graph[i] = level_graph[vertex] + 1          \n",
    "          queue.append(i)\n",
    "    \n",
    "    return level_graph\n",
    "\n",
    "\n",
    "  def dfs(self, vertex, block_cap):\n",
    "    blocking_flow = block_cap\n",
    "\n",
    "    if vertex == len(self.flow) - 1:\n",
    "      return block_cap\n",
    "\n",
    "    for i in range(len(self.flow)): # for all vertex\n",
    "      if self.level[i] == self.level[vertex] + 1 and self.residual[vertex][i] < self.flow[vertex][i]: # if its it has flow to a vertex in the +1 level\n",
    "        flow = self.dfs(i, min(blocking_flow, self.flow[vertex][i] - self.residual[vertex][i])) # go deeper in dfs\n",
    "        self.residual[vertex][i] += flow  # update residual flow\n",
    "        self.residual[i][vertex] -= flow  # update residual back-flow\n",
    "        blocking_flow -= flow             # substract the flow that channeled forword.\n",
    "    \n",
    "    return block_cap - blocking_flow      \n",
    "\n",
    "\n",
    "  def dinics(self):\n",
    "    max_flow = 0\n",
    "    while(self.t in self.level.keys()):     # while sink vertex 't' is in level_graph, try to increase max flow.\n",
    "      max_flow += self.dfs(self.s, 99999999)\n",
    "      self.level = self.bfs_level_graph()\n",
    "    return max_flow\n",
    "\n",
    "\n",
    "\n",
    "def solution(entrances, exits, path):\n",
    "  flow_g = FlowGraph(entrances, exits, path)\n",
    "  return flow_g.dinics()"
   ]
  },
  {
   "cell_type": "code",
   "execution_count": null,
   "metadata": {
    "colab": {
     "base_uri": "https://localhost:8080/"
    },
    "id": "mkWlWQVvHVgX",
    "outputId": "8a9642ea-fdd9-4369-db73-80acd36815bc"
   },
   "outputs": [
    {
     "data": {
      "text/plain": [
       "6"
      ]
     },
     "execution_count": 20,
     "metadata": {},
     "output_type": "execute_result"
    }
   ],
   "source": [
    "entrances1 = [0]\n",
    "exits1 = [3]\n",
    "path1 = [\n",
    "   [0, 7, 0, 0],\n",
    "   [0, 0, 6, 0],\n",
    "   [0, 0, 0, 8],\n",
    "   [9, 0, 0, 0]\n",
    "]\n",
    "solution(entrances1, exits1, path1)"
   ]
  },
  {
   "cell_type": "code",
   "execution_count": null,
   "metadata": {
    "colab": {
     "base_uri": "https://localhost:8080/"
    },
    "id": "A8klE2U_8Vn7",
    "outputId": "a5689d85-1f8a-492f-e06c-8e284d91e900"
   },
   "outputs": [
    {
     "data": {
      "text/plain": [
       "16"
      ]
     },
     "execution_count": 21,
     "metadata": {},
     "output_type": "execute_result"
    }
   ],
   "source": [
    "entrances2 = [0, 1]\n",
    "exits2 = [4, 5]\n",
    "path2 = [\n",
    "  [0, 0, 4, 6, 0, 0],  # Room 0: Bunnies\n",
    "  [0, 0, 5, 2, 0, 0],  # Room 1: Bunnies\n",
    "  [0, 0, 0, 0, 4, 4],  # Room 2: Intermediate room\n",
    "  [0, 0, 0, 0, 6, 6],  # Room 3: Intermediate room\n",
    "  [0, 0, 0, 0, 0, 0],  # Room 4: Escape pods\n",
    "  [0, 0, 0, 0, 0, 0],  # Room 5: Escape pods\n",
    "]\n",
    "solution(entrances2, exits2, path2)"
   ]
  },
  {
   "cell_type": "markdown",
   "metadata": {
    "id": "kBmogrP-J_j7"
   },
   "source": [
    "#Q8"
   ]
  },
  {
   "cell_type": "markdown",
   "metadata": {
    "id": "EHQMoLgKKR7g"
   },
   "source": [
    "Free the Bunny Workers\n",
    "\n",
    "You need to free the bunny workers before Commander Lambda's space station explodes! Unfortunately, the Commander was very careful with the highest-value workers -- they all work in separate, maximum-security work rooms. The rooms are opened by putting keys into each console, then pressing the open button on each console simultaneously. When the open button is pressed, each key opens its corresponding lock on the work room. So, the union of the keys in all of the consoles must be all of the keys. The scheme may require multiple copies of one key given to different minions.\n",
    "\n",
    "The consoles are far enough apart that a separate minion is needed for each one. Fortunately, you have already relieved some bunnies to aid you - and even better, you were able to steal the keys while you were working as Commander Lambda's assistant. The problem is, you don't know which keys to use at which consoles. The consoles are programmed to know which keys each minion had, to prevent someone from just stealing all of the keys and using them blindly. There are signs by the consoles saying how many minions had some keys for the set of consoles. You suspect that Commander Lambda has a systematic way to decide which keys to give to each minion such that they could use the consoles.\n",
    "\n",
    "You need to figure out the scheme that Commander Lambda used to distribute the keys. You know how many minions had keys, and how many consoles are by each work room.  You know that Command Lambda wouldn't issue more keys than necessary (beyond what the key distribution scheme requires), and that you need as many bunnies with keys as there are consoles to open the work room.\n",
    "\n",
    "Given the number of bunnies available and the number of locks required to open a work room, write a function solution(num_buns, num_required) which returns a specification of how to distribute the keys such that any num_required bunnies can open the locks, but no group of (num_required - 1) bunnies can.\n",
    "\n",
    "Each lock is numbered starting from 0. The keys are numbered the same as the lock they open (so for a duplicate key, the number will repeat, since it opens the same lock). For a given bunny, the keys they get is represented as a sorted list of the numbers for the keys. To cover all of the bunnies, the final solution is represented by a sorted list of each individual bunny's list of keys.  Find the lexicographically least such key distribution - that is, the first bunny should have keys sequentially starting from 0.\n",
    "\n",
    "num_buns will always be between 1 and 9, and num_required will always be between 0 and 9 (both inclusive).  For example, if you had 3 bunnies and required only 1 of them to open the cell, you would give each bunny the same key such that any of the 3 of them would be able to open it, like so:\n",
    "[\n",
    "  [0],\n",
    "  [0],\n",
    "  [0],\n",
    "]\n",
    "If you had 2 bunnies and required both of them to open the cell, they would receive different keys (otherwise they wouldn't both actually be required), and your solution would be as follows:\n",
    "[\n",
    "  [0],\n",
    "  [1],\n",
    "]\n",
    "Finally, if you had 3 bunnies and required 2 of them to open the cell, then any 2 of the 3 bunnies should have all of the keys necessary to open the cell, but no single bunny would be able to do it.  Thus, the solution would be:\n",
    "[\n",
    "  [0, 1],\n",
    "  [0, 2],\n",
    "  [1, 2],\n",
    "]\n",
    "\n",
    "Test cases\n",
    "\n",
    "Input:\n",
    "solution(2, 1)\n",
    "\n",
    "Output:\n",
    "    [[0], [0]]\n",
    "\n",
    "Input:\n",
    "solution(4, 4)\n",
    "\n",
    "Output:\n",
    "    [[0], [1], [2], [3]]\n",
    "\n",
    "Input:\n",
    "solution(5, 3)\n",
    "\n",
    "Output:\n",
    "    [[0, 1, 2, 3, 4, 5], [0, 1, 2, 6, 7, 8], [0, 3, 4, 6, 7, 9], [1, 3, 5, 6, 8, 9], [2, 4, 5, 7, 8, 9]]"
   ]
  },
  {
   "cell_type": "code",
   "execution_count": null,
   "metadata": {
    "id": "EQp933aaIFSE"
   },
   "outputs": [],
   "source": [
    "'''\n",
    "  Number of keys required seemed at first to have a binominal behaviour.\n",
    "  This insight led me to compose the following solution.\n",
    "'''\n",
    "\n",
    "from math import factorial\n",
    "\n",
    "def solution(num_buns, num_required):\n",
    "  bunnies = [[] for _ in range(num_buns)]\n",
    "  if num_required == 0:\n",
    "    return bunnies\n",
    "\n",
    "  n = num_buns\n",
    "  k = num_required - 1\n",
    "  num_keys_required = int(factorial(n) / (factorial(k) * factorial(n-k)))\n",
    "\n",
    "  repeat = num_buns - num_required + 1\n",
    "  idxs = [i for i in range(repeat)]  \n",
    "\n",
    "  for key in range(num_keys_required):\n",
    "    for i in idxs:\n",
    "      bunnies[i].append(key)\n",
    "    \n",
    "    for i, j in enumerate(range(len(idxs)-1, -1, -1)):\n",
    "      if idxs[j] != num_buns - 1 - i:\n",
    "        idxs[j] += 1\n",
    "        for k in range(j+1, len(idxs)):\n",
    "          idxs[k] = idxs[k-1] + 1\n",
    "        break\n",
    "        \n",
    "  return bunnies"
   ]
  },
  {
   "cell_type": "code",
   "execution_count": null,
   "metadata": {
    "colab": {
     "base_uri": "https://localhost:8080/"
    },
    "id": "uhnv3Kp1H9LB",
    "outputId": "b626c722-719d-44d3-dea7-365d7a26f8be"
   },
   "outputs": [
    {
     "data": {
      "text/plain": [
       "[[0], [0]]"
      ]
     },
     "execution_count": 23,
     "metadata": {},
     "output_type": "execute_result"
    }
   ],
   "source": [
    "solution(2, 1)"
   ]
  },
  {
   "cell_type": "code",
   "execution_count": null,
   "metadata": {
    "colab": {
     "base_uri": "https://localhost:8080/"
    },
    "id": "pzClBhxsID-y",
    "outputId": "bb591b20-a646-40b2-c094-eb9a6c8b2a6d"
   },
   "outputs": [
    {
     "data": {
      "text/plain": [
       "[[0], [1], [2], [3]]"
      ]
     },
     "execution_count": 24,
     "metadata": {},
     "output_type": "execute_result"
    }
   ],
   "source": [
    "solution(4, 4)"
   ]
  },
  {
   "cell_type": "code",
   "execution_count": null,
   "metadata": {
    "colab": {
     "base_uri": "https://localhost:8080/"
    },
    "id": "PdrQ2XffINFH",
    "outputId": "a06113fb-60d2-4645-fd94-b8a5b3a54483"
   },
   "outputs": [
    {
     "data": {
      "text/plain": [
       "[[0, 1, 2, 3, 4, 5],\n",
       " [0, 1, 2, 6, 7, 8],\n",
       " [0, 3, 4, 6, 7, 9],\n",
       " [1, 3, 5, 6, 8, 9],\n",
       " [2, 4, 5, 7, 8, 9]]"
      ]
     },
     "execution_count": 25,
     "metadata": {},
     "output_type": "execute_result"
    }
   ],
   "source": [
    "solution(5, 3)"
   ]
  },
  {
   "cell_type": "markdown",
   "metadata": {
    "id": "rdK2LmE6WgOz"
   },
   "source": [
    "#Q9 (Level 5)"
   ]
  },
  {
   "cell_type": "markdown",
   "metadata": {
    "id": "mvwWOOS5WlKT"
   },
   "source": [
    " Disorderly Escape\n",
    " \n",
    "Oh no! You've managed to free the bunny workers and escape Commander Lambdas exploding space station, but Lambda's team of elite starfighters has flanked your ship. If you dont jump to hyperspace, and fast, youll be shot out of the sky!\n",
    " \n",
    "Problem is, to avoid detection by galactic law enforcement, Commander Lambda planted the space station in the middle of a quasar quantum flux field. In order to make the jump to hyperspace, you need to know the configuration of celestial bodies in the quadrant you plan to jump through. In order to do *that*, you need to figure out how many configurations each quadrant could possibly have, so that you can pick the optimal quadrant through which youll make your jump. \n",
    " \n",
    "There's something important to note about quasar quantum flux fields' configurations: when drawn on a star grid, configurations are considered equivalent by grouping rather than by order. That is, for a given set of configurations, if you exchange the position of any two columns or any two rows some number of times, youll find that all of those configurations are equivalent in that way -- in grouping, rather than order.\n",
    " \n",
    "Write a function solution(w, h, s) that takes 3 integers and returns the number of unique, non-equivalent configurations that can be found on a star grid w blocks wide and h blocks tall where each celestial body has s possible states. Equivalency is defined as above: any two star grids with each celestial body in the same state where the actual order of the rows and columns do not matter (and can thus be freely swapped around). Star grid standardization means that the width and height of the grid will always be between 1 and 12, inclusive. And while there are a variety of celestial bodies in each grid, the number of states of those bodies is between 2 and 20, inclusive. The solution can be over 20 digits long, so return it as a decimal string.  The intermediate values can also be large, so you will likely need to use at least 64-bit integers.\n",
    " \n",
    "For example, consider w=2, h=2, s=2. We have a 2x2 grid where each celestial body is either in state 0 (for instance, silent) or state 1 (for instance, noisy).  We can examine which grids are equivalent by swapping rows and columns.\n",
    " \n",
    "00\n",
    "00\n",
    " \n",
    "In the above configuration, all celestial bodies are \"silent\" - that is, they have a state of 0 - so any swap of row or column would keep it in the same state.\n",
    " \n",
    "00 00 01 10\n",
    "01 10 00 00\n",
    " \n",
    "1 celestial body is emitting noise - that is, has a state of 1 - so swapping rows and columns can put it in any of the 4 positions.  All four of the above configurations are equivalent.\n",
    " \n",
    "00 11\n",
    "11 00\n",
    " \n",
    "2 celestial bodies are emitting noise side-by-side.  Swapping columns leaves them unchanged, and swapping rows simply moves them between the top and bottom.  In both, the *groupings* are the same: one row with two bodies in state 0, one row with two bodies in state 1, and two columns with one of each state.\n",
    " \n",
    "01 10\n",
    "01 10\n",
    " \n",
    "2 noisy celestial bodies adjacent vertically. This is symmetric to the side-by-side case, but it is different because there's no way to transpose the grid.\n",
    " \n",
    "01 10\n",
    "10 01\n",
    " \n",
    "2 noisy celestial bodies diagonally.  Both have 2 rows and 2 columns that have one of each state, so they are equivalent to each other.\n",
    " \n",
    "01 10 11 11\n",
    "11 11 01 10\n",
    " \n",
    "3 noisy celestial bodies, similar to the case where only one of four is noisy.\n",
    " \n",
    "11\n",
    "11\n",
    " \n",
    "4 noisy celestial bodies.\n",
    " \n",
    "There are 7 distinct, non-equivalent grids in total, so solution(2, 2, 2) would return 7.\n",
    "\n",
    "Test cases\n",
    "\n",
    "Inputs:\n",
    "    (int) w = 2\n",
    "    (int) h = 2\n",
    "    (int) s = 2\n",
    "\n",
    "Output:\n",
    "    (str) '7'\n",
    "\n",
    "Inputs:\n",
    "    (int) w = 2\n",
    "    (int) h = 3\n",
    "    (int) s = 4\n",
    "\n",
    "Output:\n",
    "    (str) '430'"
   ]
  },
  {
   "cell_type": "code",
   "execution_count": 4,
   "metadata": {
    "id": "OAh9jHPs8jkO"
   },
   "outputs": [],
   "source": [
    "from collections import Counter\n",
    "''' \n",
    "  After quite a bit of research, I found out this is a grouping-theory question, and was looking for an algorithm.\n",
    "  This was the most challenging question in this quiz, and the only question I was seeking for help with.\n",
    "  \n",
    "  To solve this question, one can use the 'Polya enumeration theorem', and generate the equation.\n",
    "  The equation includes many factorial and gcd calculations.\n",
    "  So, it will be more efficient not to repeat the same calculations.\n",
    "  For that reason, a pre-calculated map of them need to be created using dynamic computation method. \n",
    "'''\n",
    "def gcd_mapping(n):\n",
    "  _map = {}\n",
    "  for i in range(1, n+1):\n",
    "    _map[(i, i)] = i\n",
    "    for j in range(i+1, n+1):\n",
    "      _map[(1, i)] = 1\n",
    "      _map[(i, 1)] = 1\n",
    "      _map[(j, i)] = _map[(j - i, i)]\n",
    "      _map[(i, j)] = _map[(j - i, i)]\n",
    "  return _map\n",
    "  \n",
    "def gcd_pull(x, y, gcd_mapping):\n",
    "  return gcd_mapping[(x, y)]\n",
    "\n",
    "def factorial_mapping(n):\n",
    "  _map = {}\n",
    "  _map[0] = 1\n",
    "  for i in range(1, n+1):\n",
    "    _map[i] = i * _map[i-1]\n",
    "  return _map\n",
    "\n",
    "def factorial_pull(n, factorial_mapping):\n",
    "  return factorial_mapping[n]\n",
    "\n",
    "'''\n",
    "  The 'accel_asc_with_factors' function was writen following the paper:\n",
    "    https://arxiv.org/pdf/0909.2331.pdf, page 25.\n",
    "  This function calculates all the partitions of an integer.\n",
    "'''\n",
    "\n",
    "def accel_asc_with_factors(n, factorial_map):\n",
    "  result = []\n",
    "  a = [0 for i in range(n + 1)]\n",
    "  k = 2\n",
    "  a[0] = 0\n",
    "  y = n - 1\n",
    "  while k != 1:\n",
    "    k -= 1\n",
    "    x = a[k] + 1\n",
    "    while 2*x <= y:\n",
    "      a[k] = x\n",
    "      y -= x\n",
    "      k += 1\n",
    "    l = k + 1\n",
    "    while x <= y:\n",
    "      a[k] = x\n",
    "      a[l] = y\n",
    "      f = factorial_pull(n, factorial_map)\n",
    "      for i, j in Counter(a[1:l+1]).items():\n",
    "        f //= (i**j)*factorial_pull(j, factorial_map)\n",
    "      result.append((a[1: l+1], f))\n",
    "      x += 1\n",
    "      y -= 1\n",
    "    y += (x - 1)\n",
    "    a[k] = y + 1\n",
    "    f = factorial_pull(n, factorial_map)\n",
    "    for i, j in Counter(a[1:k+1]).items():\n",
    "      f //= (i**j)*factorial_pull(j, factorial_map)\n",
    "    result.append((a[1:k+1], f))\n",
    "\n",
    "  return result\n",
    "\n",
    "'''\n",
    "  \tTo find the number of equivalent configurations, the following expression needs to be computed:\n",
    "      (1/(w!h!)) * Sigma((w! / (1^I1)*I1! * (2^I2)I2! * ... * (w^Iw)Iw!) * ((h! / (1^J1)*J1! * (2^J2)J2! * ... * (w^Jw)Jw!)) * s^Sigma(Sigma(gcd(a, b)) for all partitions I, J))\n",
    "      where I={I1, ..., Iw} are the partitions of w, J={J1, ..., Jh} are the partitions of h,\n",
    "      And a, b are the values of partitions I and J accordingly.\n",
    "'''\n",
    "def solution(w, h, s):\n",
    "  m = max(w, h)\n",
    "  gcd_map = gcd_mapping(m)\n",
    "  factorial_map = factorial_mapping(m)\n",
    "\n",
    "  N = 0\n",
    "  Pw = accel_asc_with_factors(w, factorial_map)\n",
    "  Ph = accel_asc_with_factors(h, factorial_map)\n",
    "  fac_w = factorial_pull(w, factorial_map)\n",
    "  fac_h = factorial_pull(h, factorial_map)\n",
    "\n",
    "  for pw, fw in Pw:\n",
    "    for ph, fh in Ph:\n",
    "      N += fw * fh * (s**sum([sum([gcd_pull(a, b, gcd_map) for a in pw]) for b in ph]))\n",
    "  return str(N // (fac_w * fac_h))"
   ]
  },
  {
   "cell_type": "code",
   "execution_count": 5,
   "metadata": {
    "colab": {
     "base_uri": "https://localhost:8080/"
    },
    "id": "hWPNcMPbIhE8",
    "outputId": "9fdb8450-9beb-46b4-f57d-434fc84ed6c6"
   },
   "outputs": [
    {
     "data": {
      "text/plain": [
       "'7'"
      ]
     },
     "execution_count": 5,
     "metadata": {},
     "output_type": "execute_result"
    }
   ],
   "source": [
    "solution(2, 2, 2)"
   ]
  },
  {
   "cell_type": "code",
   "execution_count": 6,
   "metadata": {
    "colab": {
     "base_uri": "https://localhost:8080/"
    },
    "id": "9cWTFe8iI43r",
    "outputId": "a28c8932-2d66-4b00-dc3e-c82635aadda4"
   },
   "outputs": [
    {
     "data": {
      "text/plain": [
       "'430'"
      ]
     },
     "execution_count": 6,
     "metadata": {},
     "output_type": "execute_result"
    }
   ],
   "source": [
    "solution(2, 3, 4)"
   ]
  },
  {
   "cell_type": "code",
   "execution_count": null,
   "metadata": {},
   "outputs": [],
   "source": []
  }
 ],
 "metadata": {
  "colab": {
   "collapsed_sections": [
    "kheq4zPTUW0e",
    "m42_3q9nLdn2",
    "aDXWxapiQfEN",
    "AJNociy72wTV",
    "Q4hHWQIlHDWl",
    "5maqyvqiGMzp",
    "miSrcWMhrCPt",
    "zANf7NxlSvDI",
    "kBmogrP-J_j7",
    "rdK2LmE6WgOz"
   ],
   "name": "foobar.ipynb",
   "provenance": [],
   "toc_visible": true
  },
  "kernelspec": {
   "display_name": "Python 3 (ipykernel)",
   "language": "python",
   "name": "python3"
  },
  "language_info": {
   "codemirror_mode": {
    "name": "ipython",
    "version": 3
   },
   "file_extension": ".py",
   "mimetype": "text/x-python",
   "name": "python",
   "nbconvert_exporter": "python",
   "pygments_lexer": "ipython3",
   "version": "3.9.13"
  }
 },
 "nbformat": 4,
 "nbformat_minor": 1
}
